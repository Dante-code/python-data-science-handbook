{
 "cells": [
  {
   "cell_type": "code",
   "execution_count": 1,
   "metadata": {
    "collapsed": true,
    "pycharm": {
     "is_executing": false
    }
   },
   "outputs": [],
   "source": [
    "import numpy as np\n",
    "import pandas as pd\n",
    "\n",
    "def Fab(n):\n",
    "    i,a = 0,4\n",
    "    while i < n:\n",
    "        yield a\n",
    "        a = 2*a*(a+3)\n",
    "        i += 1"
   ]
  },
  {
   "cell_type": "code",
   "execution_count": 2,
   "outputs": [
    {
     "data": {
      "text/plain": "   x                                                  y\n0  0                                                  4\n1  1                                                 56\n2  2                                               6608\n3  3                                           87370976\n4  4                                  15267375418611008\n5  5                  466185504345615395130604549218176\n6  6  4346578489239515809153801131104433566973045279...\n7  7  3778548912623934329748810080183879919035200126...\n8  8  2855486377018303302010585034277192265486970844...\n9  9  1630760489867423157618203912244338359594769735...",
      "text/html": "<div>\n<style scoped>\n    .dataframe tbody tr th:only-of-type {\n        vertical-align: middle;\n    }\n\n    .dataframe tbody tr th {\n        vertical-align: top;\n    }\n\n    .dataframe thead th {\n        text-align: right;\n    }\n</style>\n<table border=\"1\" class=\"dataframe\">\n  <thead>\n    <tr style=\"text-align: right;\">\n      <th></th>\n      <th>x</th>\n      <th>y</th>\n    </tr>\n  </thead>\n  <tbody>\n    <tr>\n      <th>0</th>\n      <td>0</td>\n      <td>4</td>\n    </tr>\n    <tr>\n      <th>1</th>\n      <td>1</td>\n      <td>56</td>\n    </tr>\n    <tr>\n      <th>2</th>\n      <td>2</td>\n      <td>6608</td>\n    </tr>\n    <tr>\n      <th>3</th>\n      <td>3</td>\n      <td>87370976</td>\n    </tr>\n    <tr>\n      <th>4</th>\n      <td>4</td>\n      <td>15267375418611008</td>\n    </tr>\n    <tr>\n      <th>5</th>\n      <td>5</td>\n      <td>466185504345615395130604549218176</td>\n    </tr>\n    <tr>\n      <th>6</th>\n      <td>6</td>\n      <td>4346578489239515809153801131104433566973045279...</td>\n    </tr>\n    <tr>\n      <th>7</th>\n      <td>7</td>\n      <td>3778548912623934329748810080183879919035200126...</td>\n    </tr>\n    <tr>\n      <th>8</th>\n      <td>8</td>\n      <td>2855486377018303302010585034277192265486970844...</td>\n    </tr>\n    <tr>\n      <th>9</th>\n      <td>9</td>\n      <td>1630760489867423157618203912244338359594769735...</td>\n    </tr>\n  </tbody>\n</table>\n</div>"
     },
     "metadata": {},
     "output_type": "execute_result",
     "execution_count": 2
    }
   ],
   "source": [
    "data = pd.DataFrame({\"x\":pd.Series(range(10)),\"y\":pd.Series(Fab(10))})\n",
    "data"
   ],
   "metadata": {
    "collapsed": false,
    "pycharm": {
     "name": "#%%\n",
     "is_executing": false
    }
   }
  },
  {
   "cell_type": "code",
   "execution_count": 2,
   "outputs": [],
   "source": [],
   "metadata": {
    "collapsed": false,
    "pycharm": {
     "name": "#%%\n",
     "is_executing": false
    }
   }
  },
  {
   "cell_type": "code",
   "execution_count": 2,
   "outputs": [],
   "source": [
    "\n"
   ],
   "metadata": {
    "collapsed": false,
    "pycharm": {
     "name": "#%%\n",
     "is_executing": false
    }
   }
  }
 ],
 "metadata": {
  "kernelspec": {
   "display_name": "Python 3",
   "language": "python",
   "name": "python3"
  },
  "language_info": {
   "codemirror_mode": {
    "name": "ipython",
    "version": 2
   },
   "file_extension": ".py",
   "mimetype": "text/x-python",
   "name": "python",
   "nbconvert_exporter": "python",
   "pygments_lexer": "ipython2",
   "version": "2.7.6"
  },
  "pycharm": {
   "stem_cell": {
    "cell_type": "raw",
    "source": [],
    "metadata": {
     "collapsed": false
    }
   }
  }
 },
 "nbformat": 4,
 "nbformat_minor": 0
}